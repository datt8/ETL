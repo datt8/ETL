{
 "cells": [
  {
   "cell_type": "markdown",
   "metadata": {},
   "source": [
    "# Ejercicio LogNASA. Realizado por Daniel Tomé Gordo"
   ]
  },
  {
   "cell_type": "markdown",
   "metadata": {},
   "source": [
    "Se carga tanto el contexto Spark como la base de datos con la que se trabaja"
   ]
  },
  {
   "cell_type": "code",
   "execution_count": 1,
   "metadata": {
    "collapsed": false
   },
   "outputs": [],
   "source": [
    "from pyspark import SparkContext\n",
    "sc = SparkContext()"
   ]
  },
  {
   "cell_type": "code",
   "execution_count": 2,
   "metadata": {
    "collapsed": true
   },
   "outputs": [],
   "source": [
    "archivo = \"./apache.access.log_small\"\n",
    "data = sc.textFile(archivo)"
   ]
  },
  {
   "cell_type": "markdown",
   "metadata": {},
   "source": [
    "## Análisis descriptivo de los datos"
   ]
  },
  {
   "cell_type": "markdown",
   "metadata": {},
   "source": [
    "Para describir someramente los datos basta con realizar un _take_ que muestra los registros que se indiquen, en este caso 1. Como se ve parece que cada registro está dividido en 5 partes.\n",
    "\n",
    "- La primera parte podría ser considerada como el _host_ de donde se saca la información ('_in24.inetnebr.com_')\n",
    "- La segunda parte (_01/Aug/1995:00:00:01 -0400_] podría ser considerada como la fecha y la hora en la que se realiza el acceso, además de algo así como la zona horaria.\n",
    "- La tercera parte son los endpoints a los que se accede ('_/shuttle/missions/sts-68/news/sts-68-mcc-05.txt_')\n",
    "- La cuarta parte es el código de respuesta que genera el acceso (_200_)\n",
    "- La quinta parte son la peticiones a cada código de respuesta (_1839_)\n",
    "\n",
    "Por otro lado, decir que existen 3432 registros dentro de esta base de datos"
   ]
  },
  {
   "cell_type": "code",
   "execution_count": 3,
   "metadata": {
    "collapsed": false
   },
   "outputs": [
    {
     "data": {
      "text/plain": [
       "['in24.inetnebr.com - - [01/Aug/1995:00:00:01 -0400] \"GET /shuttle/missions/sts-68/news/sts-68-mcc-05.txt HTTP/1.0\" 200 1839']"
      ]
     },
     "execution_count": 3,
     "metadata": {},
     "output_type": "execute_result"
    }
   ],
   "source": [
    "data.take(1)"
   ]
  },
  {
   "cell_type": "code",
   "execution_count": 4,
   "metadata": {
    "collapsed": false
   },
   "outputs": [
    {
     "data": {
      "text/plain": [
       "3432"
      ]
     },
     "execution_count": 4,
     "metadata": {},
     "output_type": "execute_result"
    }
   ],
   "source": [
    "data.count()"
   ]
  },
  {
   "cell_type": "markdown",
   "metadata": {},
   "source": [
    "## Parseo de los datos"
   ]
  },
  {
   "cell_type": "markdown",
   "metadata": {},
   "source": [
    "Para ver cuántos grupos distintos existen en la estructura mostrada antes, se usa la siguiente expresión regular para parsear los datos. Luego se creará una función que comprobará si el parseado ha sido el correcto."
   ]
  },
  {
   "cell_type": "code",
   "execution_count": 5,
   "metadata": {
    "collapsed": true
   },
   "outputs": [],
   "source": [
    "import re\n",
    "estructura_nasa = '^(\\S+) (\\S+) (\\S+) \\[([\\w:/]+\\s[+\\-]\\d{4})\\] \"(\\S+) (\\S+)\\s*(\\S*)\" (\\d{3}) (\\S+)'"
   ]
  },
  {
   "cell_type": "code",
   "execution_count": 6,
   "metadata": {
    "collapsed": false
   },
   "outputs": [
    {
     "data": {
      "text/plain": [
       "0"
      ]
     },
     "execution_count": 6,
     "metadata": {},
     "output_type": "execute_result"
    }
   ],
   "source": [
    "def parseado(registro):\n",
    "    salida = re.search(estructura_nasa, registro)\n",
    "    if salida is None:\n",
    "        return (registro, 0)\n",
    "    else:\n",
    "        return (registro, 1)\n",
    "fallos = data.map(lambda registro: parseado(registro)).filter(lambda registro: registro[1] == 0).count() \n",
    "fallos"
   ]
  },
  {
   "cell_type": "markdown",
   "metadata": {},
   "source": [
    "Efectivamente, no hay ningún registro que no siga esa estructura, por lo que todos los registros estarán bien parseados."
   ]
  },
  {
   "cell_type": "markdown",
   "metadata": {},
   "source": [
    "Aquí se guardan los datos parseados (de forma provisional) que serán los usados posteriormente para el análisis."
   ]
  },
  {
   "cell_type": "code",
   "execution_count": 7,
   "metadata": {
    "collapsed": false
   },
   "outputs": [],
   "source": [
    "parsed_data = data.map(lambda registro: parseado(registro)).filter(lambda registro: registro[1] == 1).map(lambda registro : registro[0])"
   ]
  },
  {
   "cell_type": "markdown",
   "metadata": {},
   "source": [
    "Con esta función se guardan ya los datos bien parseados, divididos por grupos (como luego se observa con el _take_)"
   ]
  },
  {
   "cell_type": "code",
   "execution_count": 8,
   "metadata": {
    "collapsed": true
   },
   "outputs": [],
   "source": [
    "def parseado_grupos(registro):\n",
    "    salida = re.search(estructura_nasa, registro)\n",
    "    return salida.groups()\n",
    "parsed_data = parsed_data.map(lambda registro: parseado_grupos(registro))"
   ]
  },
  {
   "cell_type": "code",
   "execution_count": 9,
   "metadata": {
    "collapsed": false
   },
   "outputs": [
    {
     "data": {
      "text/plain": [
       "[('in24.inetnebr.com',\n",
       "  '-',\n",
       "  '-',\n",
       "  '01/Aug/1995:00:00:01 -0400',\n",
       "  'GET',\n",
       "  '/shuttle/missions/sts-68/news/sts-68-mcc-05.txt',\n",
       "  'HTTP/1.0',\n",
       "  '200',\n",
       "  '1839')]"
      ]
     },
     "execution_count": 9,
     "metadata": {},
     "output_type": "execute_result"
    }
   ],
   "source": [
    "parsed_data.take(1)"
   ]
  },
  {
   "cell_type": "markdown",
   "metadata": {},
   "source": [
    "## Resolución del ejercicio"
   ]
  },
  {
   "cell_type": "markdown",
   "metadata": {},
   "source": [
    "### 1.  Estadísticas (mínimo, máximo y media)"
   ]
  },
  {
   "cell_type": "markdown",
   "metadata": {},
   "source": [
    "Para hallar los estadísticos que se piden, primero se debe convertir a formato número las peticiones del código. Tras esto, se aplica con una función _map_ esa conversión al elemento de cada registro que es el número de peticiones. Para hallarlos, se calcula cada uno de ellos y luego se sacan con el _print_."
   ]
  },
  {
   "cell_type": "code",
   "execution_count": 11,
   "metadata": {
    "collapsed": false
   },
   "outputs": [
    {
     "name": "stdout",
     "output_type": "stream",
     "text": [
      "Media = 16051.863636363621 ; Mínimo = 0 ; Máximo = 887988\n"
     ]
    }
   ],
   "source": [
    "def numero(x):\n",
    "    x = re.sub('[^0-9]',\"\",x) \n",
    "    if x !=\"\":\n",
    "        return int(x)\n",
    "    else:\n",
    "        return 0\n",
    "    \n",
    "media = parsed_data.map(lambda registro: numero(registro[8])).mean()\n",
    "minimo = parsed_data.map(lambda registro: numero(registro[8])).min()\n",
    "maximo = parsed_data.map(lambda registro: numero(registro[8])).max()\n",
    "print ('Media =', media,'; Mínimo =', minimo,'; Máximo =', maximo)"
   ]
  },
  {
   "cell_type": "markdown",
   "metadata": {},
   "source": [
    "### 2. Número de peticiones de cada código de respuesta"
   ]
  },
  {
   "cell_type": "markdown",
   "metadata": {},
   "source": [
    "En un primer paso se cuentan los distintos códigos de respuesta que aparecen en la base de datos."
   ]
  },
  {
   "cell_type": "code",
   "execution_count": 29,
   "metadata": {
    "collapsed": false
   },
   "outputs": [],
   "source": [
    "n_codigos = parsed_data.map(lambda linea: (linea[7], 1)).distinct().count()"
   ]
  },
  {
   "cell_type": "markdown",
   "metadata": {},
   "source": [
    "El proceso para contar las peticiones por código es el que sigue:\n",
    "\n",
    "- La primera _lambda_ convierte cada registro en un registro tipo (nº código, 1). registro[7] es el código de respuesta que se saca de la base de datos ya parseada\n",
    "- La segunda _lambda_ reduce por código sumando todos los registros obtenidos en el anterior\n",
    "- Con el _take_ se sacan los códigos hallados antes"
   ]
  },
  {
   "cell_type": "code",
   "execution_count": 30,
   "metadata": {
    "collapsed": false
   },
   "outputs": [],
   "source": [
    "peticiones_codigo = (parsed_data.map(lambda registro: (registro[7], 1)).reduceByKey(lambda a, b: a + b))"
   ]
  },
  {
   "cell_type": "code",
   "execution_count": 31,
   "metadata": {
    "collapsed": false
   },
   "outputs": [
    {
     "data": {
      "text/plain": [
       "[('304', 219), ('404', 22), ('302', 50), ('200', 3140), ('403', 1)]"
      ]
     },
     "execution_count": 31,
     "metadata": {},
     "output_type": "execute_result"
    }
   ],
   "source": [
    "peticiones_codigo.take(n_codigos)"
   ]
  },
  {
   "cell_type": "markdown",
   "metadata": {},
   "source": [
    "### 3. Halla 20 hosts que hayan sido vistos más de 10 veces"
   ]
  },
  {
   "cell_type": "markdown",
   "metadata": {},
   "source": [
    "En este caso el proceso inicial es muy similar al del anterior caso, se sacan los hosts en formato (_clave, valor_) y se suman. El cambio viene en el siguiente paso, en este caso se filtra que los valores sean superiores a 10.\n",
    "\n",
    "Para la salida, se pueden usar varios métodos. Por ejemplo un _take_ que sacaría 20 cualesquiera o, con un _takeOrdered_ que saldrían los 20 hosts que más veces se han visitado"
   ]
  },
  {
   "cell_type": "code",
   "execution_count": 16,
   "metadata": {
    "collapsed": false
   },
   "outputs": [
    {
     "data": {
      "text/plain": [
       "[('prakinf2.prakinf.tu-ilmenau.de', 14),\n",
       " ('centauri.tksc.nasda.go.jp', 13),\n",
       " ('cs1-08.leh.ptd.net', 23),\n",
       " ('www-a1.proxy.aol.com', 23),\n",
       " ('133.68.18.180', 17),\n",
       " ('ip55.van2.pacifier.com', 43),\n",
       " ('hsccs_gatorbox07.unm.edu', 40),\n",
       " ('stockyard17.onramp.net', 24),\n",
       " ('pme609.onramp.awinc.com', 22),\n",
       " ('lutzp.tigernet.net', 12),\n",
       " ('maui56.maui.net', 23),\n",
       " ('193.84.66.147', 31),\n",
       " ('143.158.26.50', 29),\n",
       " ('adam.tower.com.au', 44),\n",
       " ('www-d1.proxy.aol.com', 39),\n",
       " ('pc-heh.icl.dk', 33),\n",
       " ('dd15-053.compuserve.com', 11),\n",
       " ('ts6-11.westwood.ts.ucla.edu', 15),\n",
       " ('ad14-027.compuserve.com', 16),\n",
       " ('168.78.14.166', 24)]"
      ]
     },
     "execution_count": 16,
     "metadata": {},
     "output_type": "execute_result"
    }
   ],
   "source": [
    "hosts20 = parsed_data.map(lambda registro: (registro[0],1)).reduceByKey(lambda a, b: a + b).filter(lambda x: x[1] > 10)\n",
    "hosts20.take(20)"
   ]
  },
  {
   "cell_type": "markdown",
   "metadata": {},
   "source": [
    "### 4. ¿Cuáles son los 10 endpoints más visitados?"
   ]
  },
  {
   "cell_type": "markdown",
   "metadata": {},
   "source": [
    "En este apartado el funcionamiento es el mismo que en los anteriores, se consigue cada _endpoint_ en un formato (_clave, valor_) y luego se reduce sumando las veces que se repite cada _endpoint_. Para ver cúales son los más visitados, se usa la función _takeOrdered_ que saca los 10 más visitados y los ordena de forma decreciente por valor con el -x[1]. Si se usase x[0] en el lambda se ordenaría por la clave (en este caso no tendría ningún sentido ordenar, además tiene formato _string_)"
   ]
  },
  {
   "cell_type": "code",
   "execution_count": 17,
   "metadata": {
    "collapsed": false
   },
   "outputs": [
    {
     "data": {
      "text/plain": [
       "[('/images/KSC-logosmall.gif', 167),\n",
       " ('/images/NASA-logosmall.gif', 160),\n",
       " ('/images/MOSAIC-logosmall.gif', 122),\n",
       " ('/images/WORLD-logosmall.gif', 120),\n",
       " ('/images/USA-logosmall.gif', 118),\n",
       " ('/images/ksclogo-medium.gif', 106),\n",
       " ('/', 85),\n",
       " ('/history/apollo/images/apollo-logo1.gif', 74),\n",
       " ('/images/launch-logo.gif', 69),\n",
       " ('/images/ksclogosmall.gif', 66)]"
      ]
     },
     "execution_count": 17,
     "metadata": {},
     "output_type": "execute_result"
    }
   ],
   "source": [
    "top10endpoints = parsed_data.map(lambda registro: (registro[5],1)).reduceByKey(lambda a, b: a + b)\n",
    "top10endpoints.takeOrdered(10, lambda x: -x[1])"
   ]
  },
  {
   "cell_type": "markdown",
   "metadata": {},
   "source": [
    "### 5. ¿Cuáles son 10 endpoints más visitados sin código 200?"
   ]
  },
  {
   "cell_type": "markdown",
   "metadata": {},
   "source": [
    "El proceso es exactamente el mismo que el del apartado anterior, el único cambio es que en este caso se filtra previamente los códigos que no sean 200."
   ]
  },
  {
   "cell_type": "code",
   "execution_count": 18,
   "metadata": {
    "collapsed": false
   },
   "outputs": [
    {
     "data": {
      "text/plain": [
       "[('/images/NASA-logosmall.gif', 25),\n",
       " ('/images/KSC-logosmall.gif', 24),\n",
       " ('/images/MOSAIC-logosmall.gif', 17),\n",
       " ('/images/WORLD-logosmall.gif', 17),\n",
       " ('/images/USA-logosmall.gif', 16),\n",
       " ('/images/ksclogo-medium.gif', 10),\n",
       " ('/software/winvn/bluemarb.gif', 8),\n",
       " ('/software/winvn/winvn.html', 8),\n",
       " ('/images/construct.gif', 8),\n",
       " ('/software/winvn/wvsmall.gif', 6)]"
      ]
     },
     "execution_count": 18,
     "metadata": {},
     "output_type": "execute_result"
    }
   ],
   "source": [
    "top10endpoints_no200 = (parsed_data.filter(lambda registro: registro[7] != '200')\n",
    "                        .map(lambda registro: (registro[5], 1))\n",
    "                        .reduceByKey(lambda a, b: a+b))\n",
    "top10endpoints_no200.takeOrdered(10, lambda x: -x[1])"
   ]
  },
  {
   "cell_type": "markdown",
   "metadata": {},
   "source": [
    "### 6. ¿Cuántos hosts únicos existen?"
   ]
  },
  {
   "cell_type": "markdown",
   "metadata": {},
   "source": [
    "Se cogen los registros, que están en el primer lugar de los datos parseados, y se cuentan los distintos"
   ]
  },
  {
   "cell_type": "code",
   "execution_count": 19,
   "metadata": {
    "collapsed": false
   },
   "outputs": [
    {
     "data": {
      "text/plain": [
       "311"
      ]
     },
     "execution_count": 19,
     "metadata": {},
     "output_type": "execute_result"
    }
   ],
   "source": [
    "parsed_data.map(lambda registro: registro[0]).distinct().count()"
   ]
  },
  {
   "cell_type": "markdown",
   "metadata": {},
   "source": [
    "### 7. ¿Cuántos hosts diarios se visitan por día?"
   ]
  },
  {
   "cell_type": "markdown",
   "metadata": {},
   "source": [
    "Se importa en primer lugar _datetime_ para poder convertir las fechas. Se crea también una funcion de conversión de la fecha que coge el cuarto grupo de los datos parseados y los convierte en una fecha del tipo _día/mes/año_ (el %b se usa porque en el original el mes viene en 3 letras, Aug). \n",
    "\n",
    "El proceso para sacar los hosts, es el mismo que en todos los apartados. Se usa en _collect_ porque, en un principio, no se deberían saber cuántas fechas distintas hay en el dataset. En este caso, al ser una única fecha se podría usar un _take_(1), por ejemplo."
   ]
  },
  {
   "cell_type": "code",
   "execution_count": 20,
   "metadata": {
    "collapsed": false
   },
   "outputs": [
    {
     "data": {
      "text/plain": [
       "[(datetime.datetime(1995, 8, 1, 0, 0), 3432)]"
      ]
     },
     "execution_count": 20,
     "metadata": {},
     "output_type": "execute_result"
    }
   ],
   "source": [
    "from datetime import datetime\n",
    "def conv_fecha(registro):\n",
    "    fecha = registro[3]\n",
    "    return datetime.strptime(fecha[:11], \"%d/%b/%Y\")\n",
    "\n",
    "host_diarios = parsed_data.map(lambda registro: (conv_fecha(registro), 1)).reduceByKey(lambda a, b: a + b)\n",
    "host_diarios.collect()"
   ]
  },
  {
   "cell_type": "markdown",
   "metadata": {},
   "source": [
    "### 8. ¿Cuántos hosts únicos hay por día?"
   ]
  },
  {
   "cell_type": "markdown",
   "metadata": {},
   "source": [
    "En este caso, es inútil hacerlo pues como se ha visto en los dos apartados anteriores sólo hay un día y existen 311 registros únicos. De esta manera, se sabe ya de antemano el resultado que debe salir de este apartado, 311 el día 1 de agosto de 1995. Aún así, se realizará el código para futuras bases de datos que contengan más de una fecha.\n",
    "\n",
    "El proceso del código es bastante complejo. En primer lugar se crea una función _lambda_ que agrupa la fecha (con la función creada en el ejercicio anterior) y el nombre del host, para poder luego trabajar con él. Se agrupa por la clave y luego se usa un _mapValues_ para poder operar por la parte valor (la del host) ordenándolos (con el set). La segunda parte al tener un formato _clave, valor_ es un diccionario. Con el último map, se consigue un único registro cuya clave es la fecha y el valor es la longitud del diccionario, es decir los hosts únicos."
   ]
  },
  {
   "cell_type": "code",
   "execution_count": 21,
   "metadata": {
    "collapsed": false
   },
   "outputs": [
    {
     "data": {
      "text/plain": [
       "[(datetime.datetime(1995, 8, 1, 0, 0), 311)]"
      ]
     },
     "execution_count": 21,
     "metadata": {},
     "output_type": "execute_result"
    }
   ],
   "source": [
    "unicos_dia = (parsed_data.map(lambda registro: (conv_fecha(registro), registro[0]))\n",
    "              .groupByKey()\n",
    "              .mapValues(set)\n",
    "              .map(lambda x: (x[0], len(x[1]))))\n",
    "unicos_dia.collect()"
   ]
  },
  {
   "cell_type": "markdown",
   "metadata": {},
   "source": [
    "### 9. ¿Cuál es la media de las peticiones diarias por host?"
   ]
  },
  {
   "cell_type": "markdown",
   "metadata": {},
   "source": [
    "En este caso se realiza algo similar al proceso del anterior apartado, pero en vez de colocar cada host como el segundo elemento del registro se coloca la cantidad de hosts totales. Posteriormente se unen ambos RDD, *unicos_dia* y *media_peticiones* y se hace un _map_ para colocar en primer lugar la fecha, y en segundo se hace una división (promedio) entre las peticiones totales (3432) y las hosts únicos (311) accediendo al primer y segundo lugar de la segunda parte de la unión."
   ]
  },
  {
   "cell_type": "code",
   "execution_count": 24,
   "metadata": {
    "collapsed": false
   },
   "outputs": [
    {
     "data": {
      "text/plain": [
       "[(datetime.datetime(1995, 8, 1, 0, 0), 11.035369774919614)]"
      ]
     },
     "execution_count": 24,
     "metadata": {},
     "output_type": "execute_result"
    }
   ],
   "source": [
    "fecha_total = (parsed_data.map(lambda registro: (conv_fecha(registro), registro[0])).groupByKey().mapValues(len))\n",
    "media_peticiones = fecha_total.join(unicos_dia).map(lambda a: (a[0], (a[1][0])/(a[1][1])))\n",
    "media_peticiones.collect()"
   ]
  },
  {
   "cell_type": "markdown",
   "metadata": {},
   "source": [
    "### 10. Lista de 40 endpoints que generen error 404"
   ]
  },
  {
   "cell_type": "markdown",
   "metadata": {},
   "source": [
    "En este caso se filtra en primer lugar todos los registros que tienen en la posición del código el valor 404, se saca cada endpoint en una lista"
   ]
  },
  {
   "cell_type": "code",
   "execution_count": 25,
   "metadata": {
    "collapsed": false
   },
   "outputs": [
    {
     "data": {
      "text/plain": [
       "['/shuttle/resources/orbiters/discovery.gif',\n",
       " '/pub/winvn/release.txt',\n",
       " '/www/software/winvn/winvn.html',\n",
       " '/history/history.htm',\n",
       " '/elv/DELTA/uncons.htm',\n",
       " '/sts-71/launch/',\n",
       " '/history/apollo/apollo-13.html',\n",
       " '/history/apollo/a-001/a-001-patch-small.gif',\n",
       " '/history/apollo/a-001/movies/',\n",
       " '/history/apollo/a-001/a-001-patch-small.gif',\n",
       " '/history/apollo/a-001/movies/',\n",
       " '/history/apollo/a-001/a-001-patch-small.gif',\n",
       " '/history/apollo/a-001/images/',\n",
       " '/history/apollo/a-001/a-001-patch-small.gif',\n",
       " '/history/apollo/a-004/a-004-patch-small.gif',\n",
       " '/history/apollo/a-004/movies/',\n",
       " '/history/apollo/a-004/a-004-patch-small.gif',\n",
       " '/pub/winvn/release.txt',\n",
       " '/pub/winvn/readme.txt',\n",
       " '/pub/winvn/release.txt',\n",
       " '/pub/winvn/readme.txt',\n",
       " '/pub/winvn/release.txt']"
      ]
     },
     "execution_count": 25,
     "metadata": {},
     "output_type": "execute_result"
    }
   ],
   "source": [
    "top40_404 = parsed_data.filter(lambda registro: registro[7] == '404').map(lambda line: line[5])         \n",
    "top40_404.take(40)"
   ]
  },
  {
   "cell_type": "markdown",
   "metadata": {},
   "source": [
    "### 11. Top 25 de los que más errores 404 generan"
   ]
  },
  {
   "cell_type": "markdown",
   "metadata": {},
   "source": [
    "Los primeros pasos de este apartado son iguales al del anterior pero añadiendo a cada _endpoint_ un 1, para luego contearlo y reducirlo por la clave. Finalmente, con el _takeOrdered_ se saca el top-25 de los errores (aunque en este caso no hay tantos errores)"
   ]
  },
  {
   "cell_type": "code",
   "execution_count": 25,
   "metadata": {
    "collapsed": false
   },
   "outputs": [
    {
     "data": {
      "text/plain": [
       "[('/pub/winvn/release.txt', 4),\n",
       " ('/history/apollo/a-001/a-001-patch-small.gif', 4),\n",
       " ('/history/apollo/a-004/a-004-patch-small.gif', 2),\n",
       " ('/history/apollo/a-001/movies/', 2),\n",
       " ('/pub/winvn/readme.txt', 2),\n",
       " ('/shuttle/resources/orbiters/discovery.gif', 1),\n",
       " ('/www/software/winvn/winvn.html', 1),\n",
       " ('/history/history.htm', 1),\n",
       " ('/history/apollo/apollo-13.html', 1),\n",
       " ('/elv/DELTA/uncons.htm', 1),\n",
       " ('/sts-71/launch/', 1),\n",
       " ('/history/apollo/a-001/images/', 1),\n",
       " ('/history/apollo/a-004/movies/', 1)]"
      ]
     },
     "execution_count": 25,
     "metadata": {},
     "output_type": "execute_result"
    }
   ],
   "source": [
    "top25_404 = (parsed_data.filter(lambda registro: registro[7] == '404')\n",
    "             .map(lambda registro: (registro[5], 1))\n",
    "             .reduceByKey(lambda a, b: a+b))\n",
    "top25_404.takeOrdered(25, lambda x: -x[1])"
   ]
  },
  {
   "cell_type": "markdown",
   "metadata": {},
   "source": [
    "### 12. Top 5 de días que se generan un código 404"
   ]
  },
  {
   "cell_type": "markdown",
   "metadata": {},
   "source": [
    "En este caso, también es inútil hacer un top 5 de días cuando sólo existe un día en el dataset. A pesar de ello, se hará un código por si existiese más de un día. El funcionamiento es similar al de los apartados 7 y 8. En este caso se filtra los errores 404 se crea una lista con cada fecha (única en este caso) y luego se suman por cada clave. Finalmente, se sacan los 5 que más tienen en orden descendente."
   ]
  },
  {
   "cell_type": "code",
   "execution_count": 26,
   "metadata": {
    "collapsed": false
   },
   "outputs": [
    {
     "data": {
      "text/plain": [
       "[(datetime.datetime(1995, 8, 1, 0, 0), 22)]"
      ]
     },
     "execution_count": 26,
     "metadata": {},
     "output_type": "execute_result"
    }
   ],
   "source": [
    "top5dias_404 = (parsed_data.filter(lambda registro: registro[7] == '404')\n",
    "                .map(lambda registro: (conv_fecha(registro), 1))\n",
    "                .reduceByKey(lambda a, b: a+b))\n",
    "top5dias_404.takeOrdered(5, lambda x: -x[1])"
   ]
  }
 ],
 "metadata": {
  "kernelspec": {
   "display_name": "Python 3",
   "language": "python",
   "name": "python3"
  },
  "language_info": {
   "codemirror_mode": {
    "name": "ipython",
    "version": 3
   },
   "file_extension": ".py",
   "mimetype": "text/x-python",
   "name": "python",
   "nbconvert_exporter": "python",
   "pygments_lexer": "ipython3",
   "version": "3.5.2"
  }
 },
 "nbformat": 4,
 "nbformat_minor": 2
}
