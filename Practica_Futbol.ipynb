{
 "cells": [
  {
   "cell_type": "markdown",
   "metadata": {},
   "source": [
    "# Práctica Fútbol. Realizada por Daniel Tomé Gordo"
   ]
  },
  {
   "cell_type": "markdown",
   "metadata": {},
   "source": [
    "El fichero de datos sobre el que se trabajará es el de DataSetPartidos.txt."
   ]
  },
  {
   "cell_type": "markdown",
   "metadata": {},
   "source": [
    "## Segunda tarea: Inicializar spark context y cargar los datos desde el fichero."
   ]
  },
  {
   "cell_type": "code",
   "execution_count": 1,
   "metadata": {},
   "outputs": [],
   "source": [
    "from pyspark import SparkContext\n",
    "sc = SparkContext()"
   ]
  },
  {
   "cell_type": "code",
   "execution_count": 2,
   "metadata": {
    "collapsed": true
   },
   "outputs": [],
   "source": [
    "archivo = \"./DataSetPartidos.txt\"\n",
    "data = sc.textFile(archivo)"
   ]
  },
  {
   "cell_type": "markdown",
   "metadata": {},
   "source": [
    "Se realiza un _take_ para ver como es la estructura de los datos. Parece ser que el primer dato es un identificador, el segundo la temporada en la que el partido se juega, el tercero podría ser la jornada en la que se juega el partido, siendo el cuarto y el quinto datos los equipos que jugaron el partido de local y visitante respectivamente. El sexto y séptimo dato son los goles del partido, local y visitante, respectivamente. El octavo es la fecha del partido y el último podría ser la asistencia (**NO SÉ LO QUÉ ES**).\n",
    "Con el _count_ hallamos los registros totales, 34.518 partidos en este caso"
   ]
  },
  {
   "cell_type": "code",
   "execution_count": 6,
   "metadata": {},
   "outputs": [
    {
     "data": {
      "text/plain": [
       "['1::1970-71::1::Athletic Club::Barcelona::1::1::12/09/1970::21942000.0']"
      ]
     },
     "execution_count": 6,
     "metadata": {},
     "output_type": "execute_result"
    }
   ],
   "source": [
    "data.take(1)"
   ]
  },
  {
   "cell_type": "code",
   "execution_count": 7,
   "metadata": {},
   "outputs": [
    {
     "data": {
      "text/plain": [
       "34518"
      ]
     },
     "execution_count": 7,
     "metadata": {},
     "output_type": "execute_result"
    }
   ],
   "source": [
    "data.count()"
   ]
  },
  {
   "cell_type": "markdown",
   "metadata": {},
   "source": [
    "Para parsear los datos, se observa que cada variable está dividida por **::**, por lo que se divide cada registro por esos caracteres."
   ]
  },
  {
   "cell_type": "code",
   "execution_count": 9,
   "metadata": {},
   "outputs": [],
   "source": [
    "datos_parseados = data.map(lambda x: x.split(\"::\"))"
   ]
  },
  {
   "cell_type": "code",
   "execution_count": 19,
   "metadata": {},
   "outputs": [
    {
     "data": {
      "text/plain": [
       "[['1',\n",
       "  '1970-71',\n",
       "  '1',\n",
       "  'Athletic Club',\n",
       "  'Barcelona',\n",
       "  '1',\n",
       "  '1',\n",
       "  '12/09/1970',\n",
       "  '21942000.0']]"
      ]
     },
     "execution_count": 19,
     "metadata": {},
     "output_type": "execute_result"
    }
   ],
   "source": [
    "datos_parseados.take(1)"
   ]
  },
  {
   "cell_type": "markdown",
   "metadata": {},
   "source": [
    "## Tercera pregunta: Calcular el número total de goles que ha marcado el Real Sporting de Gijón."
   ]
  },
  {
   "cell_type": "markdown",
   "metadata": {},
   "source": [
    "En primer lugar se deberán filtrar todos los partidos en los que el Sporting de Gijón juega en casa. Se coge el cuarto elemento de los datos parseados. Una vez filtrados los registros, se coge el sexto elemento (los goles del equipo local) y se suman todos. Así ya se habrían conseguido los goles que el Sporting ha marcado en El Molinón durante las temporadas contenidas en la base de datos. El proceso es el mismo para los goles que el Sporting ha marcado fuera de casa.\n",
    "\n",
    "Finalmente se \"imprimen\" los goles del Sporting en esta temporada, sumando ambos resultados."
   ]
  },
  {
   "cell_type": "code",
   "execution_count": 20,
   "metadata": {},
   "outputs": [],
   "source": [
    "sporting_local = datos_parseados.filter(lambda x: x[3] == \"Sporting de Gijon\") # Se filtra por el equipo local (Sporting)\n",
    "goles_local = sporting_local.map(lambda x: int(x[5])).sum() # Goles marcados en El Molinón"
   ]
  },
  {
   "cell_type": "code",
   "execution_count": 21,
   "metadata": {},
   "outputs": [],
   "source": [
    "sporting_visitante = datos_parseados.filter(lambda x: x[4] == \"Sporting de Gijon\") # Se filtra por el equipo visitante\n",
    "goles_visitante = sporting_visitante.map(lambda x: int(x[6])).sum() # Goles marcados por el Sporting fuera de casa"
   ]
  },
  {
   "cell_type": "code",
   "execution_count": 22,
   "metadata": {},
   "outputs": [
    {
     "name": "stdout",
     "output_type": "stream",
     "text": [
      "El Real Sporting de Gijón ha marcado 2042 goles a lo largo de las 45 temporadas\n"
     ]
    }
   ],
   "source": [
    "print (\"El Real Sporting de Gijón ha marcado\",goles_local + goles_visitante, \"goles a lo largo de las 45 temporadas\")"
   ]
  },
  {
   "cell_type": "markdown",
   "metadata": {},
   "source": [
    "## Cuarta pregunta: ¿ En que temporada se marcaron más goles?"
   ]
  },
  {
   "cell_type": "markdown",
   "metadata": {},
   "source": [
    "En primer lugar, se calculan todos los goles que se han marcado en los 34.518 partidos. Para ello, se hallan los goles marcados en los partidos y se guardan en el formato _temporada;goles_. En el último paso, se reducen los registros sumando todos los goles de cada temporada. Para hallar la temporada en la que más goles se han conseguido, se realiza un _takeOrdered_ sacando un registro (el que más valor tenga). Así la salida, será la temporada que más.\n",
    "Finalmente, se imprime la información."
   ]
  },
  {
   "cell_type": "code",
   "execution_count": 23,
   "metadata": {},
   "outputs": [],
   "source": [
    "temporada_goles = datos_parseados.map(lambda x: (x[1], int(x[5]) + int(x[6]))).reduceByKey(lambda a, b: a + b)"
   ]
  },
  {
   "cell_type": "code",
   "execution_count": 35,
   "metadata": {},
   "outputs": [],
   "source": [
    "temporada_mas_goles = temporada_goles.takeOrdered(1, lambda x: -x[1])"
   ]
  },
  {
   "cell_type": "code",
   "execution_count": 36,
   "metadata": {},
   "outputs": [
    {
     "name": "stdout",
     "output_type": "stream",
     "text": [
      "La temporada con más goles fue la 2012-13 y se marcaron 2294 goles\n"
     ]
    }
   ],
   "source": [
    "print(\"La temporada con más goles fue la\", temporada_mas_goles[0][0], \"y se marcaron\", temporada_mas_goles[0][1], \"goles\")"
   ]
  },
  {
   "cell_type": "markdown",
   "metadata": {},
   "source": [
    "## Quinta pregunta: ¿Cúal es el equipo y tiene el record de más goles como local? ¿ y cómo visitante?"
   ]
  },
  {
   "cell_type": "markdown",
   "metadata": {},
   "source": [
    "En primer lugar se sacarán todos los equipos locales de todos los partidos, y en un formato de clave (siendo esta el equipo) - valor (siendo este el número de goles). Posteriormente, se agruparán y se sumarán todos los valores. De esta manera, el que tenga un valor máximo será el equipo que más goles ha metido de local. Para el cálculo del visitante, se realizará el mismo proceso."
   ]
  },
  {
   "cell_type": "code",
   "execution_count": 37,
   "metadata": {},
   "outputs": [],
   "source": [
    "goles_totales_local = datos_parseados.map(lambda x: (x[3], int(x[5]))).reduceByKey(lambda a, b: a + b)\n",
    "mas_gol_local = goles_totales_local.takeOrdered(1, lambda x: -x[1])"
   ]
  },
  {
   "cell_type": "code",
   "execution_count": 39,
   "metadata": {},
   "outputs": [
    {
     "name": "stdout",
     "output_type": "stream",
     "text": [
      "El equipo con más goles como local a lo largo de estas temporadas es el: Real Madrid con 2054 goles\n"
     ]
    }
   ],
   "source": [
    "print('El equipo con más goles como local a lo largo de estas temporadas es el:', mas_gol_local[0][0], 'con', mas_gol_local[0][1], 'goles')"
   ]
  },
  {
   "cell_type": "code",
   "execution_count": 45,
   "metadata": {},
   "outputs": [
    {
     "data": {
      "text/plain": [
       "[('Real Madrid', 1296),\n",
       " ('Barcelona', 1296),\n",
       " ('Atletico de Madrid', 988),\n",
       " ('Valencia', 919),\n",
       " ('Betis', 853)]"
      ]
     },
     "execution_count": 45,
     "metadata": {},
     "output_type": "execute_result"
    }
   ],
   "source": [
    "goles_totales_visitante = datos_parseados.map(lambda x: (x[4], int(x[6]))).reduceByKey(lambda a, b: a + b)\n",
    "mas_gol_visitante = goles_totales_visitante.takeOrdered(1, lambda x: -x[1])"
   ]
  },
  {
   "cell_type": "code",
   "execution_count": 46,
   "metadata": {},
   "outputs": [
    {
     "name": "stdout",
     "output_type": "stream",
     "text": [
      "El equipo con más goles como visitante a lo largo de estas temporadas es el: Real Madrid con 1296 goles\n"
     ]
    }
   ],
   "source": [
    "print('El equipo con más goles como visitante a lo largo de estas temporadas es el:', mas_gol_visitante[0][0], 'con', mas_gol_visitante[0][1], 'goles')"
   ]
  },
  {
   "cell_type": "markdown",
   "metadata": {},
   "source": [
    "## Sexta pregunta: ¿Cúales son las 3 décadas en las que más goles se metieron?"
   ]
  },
  {
   "cell_type": "code",
   "execution_count": null,
   "metadata": {},
   "outputs": [],
   "source": []
  },
  {
   "cell_type": "markdown",
   "metadata": {},
   "source": [
    "##  Séptima pregunta: ¿Cúal es la media de victorias de los equipos que han estado menos de 10 temporadas en primera división?"
   ]
  },
  {
   "cell_type": "code",
   "execution_count": null,
   "metadata": {},
   "outputs": [],
   "source": []
  },
  {
   "cell_type": "markdown",
   "metadata": {},
   "source": [
    "##  Octava pregunta: ¿Cúal es la media de goles como visitante por partido?"
   ]
  },
  {
   "cell_type": "markdown",
   "metadata": {},
   "source": [
    "Se sacarán todos los goles que se han marcado como visitante en los partidos y luego se realizará la media de estos."
   ]
  },
  {
   "cell_type": "code",
   "execution_count": 55,
   "metadata": {},
   "outputs": [
    {
     "name": "stdout",
     "output_type": "stream",
     "text": [
      "Un equipo visitante marca de media 0.93 goles por partido\n"
     ]
    }
   ],
   "source": [
    "total_gol_visitante = datos_parseados.map(lambda x: int(x[6])).sum()\n",
    "media_goles_visitante = (total_gol_visitante/data.count())\n",
    "print('Un equipo visitante marca de media', round(media_goles_visitante, 2), 'goles por partido')"
   ]
  }
 ],
 "metadata": {
  "kernelspec": {
   "display_name": "Python 3",
   "language": "python",
   "name": "python3"
  },
  "language_info": {
   "codemirror_mode": {
    "name": "ipython",
    "version": 3
   },
   "file_extension": ".py",
   "mimetype": "text/x-python",
   "name": "python",
   "nbconvert_exporter": "python",
   "pygments_lexer": "ipython3",
   "version": "3.6.5"
  },
  "toc": {
   "base_numbering": 1,
   "nav_menu": {},
   "number_sections": true,
   "sideBar": true,
   "skip_h1_title": false,
   "title_cell": "Table of Contents",
   "title_sidebar": "Contents",
   "toc_cell": false,
   "toc_position": {},
   "toc_section_display": true,
   "toc_window_display": false
  }
 },
 "nbformat": 4,
 "nbformat_minor": 2
}
