{
 "cells": [
  {
   "cell_type": "markdown",
   "metadata": {},
   "source": [
    "# Práctica Dataset Fútbol. Realizado por Daniel Tomé Gordo \n",
    "## Máster en Data Science para Finanzas de CUNEF"
   ]
  },
  {
   "cell_type": "markdown",
   "metadata": {},
   "source": [
    "El fichero de datos sobre el que se trabajará es el de DataSetPartidos.txt.\n",
    "\n",
    "A cada una de las preguntas hay que responder explicando brevemente que se pretende hacer antes de lanzar el código."
   ]
  },
  {
   "cell_type": "markdown",
   "metadata": {},
   "source": [
    "## Primera pregunta: ¿ En que se diferencian las acciones de las transformaciones en SPARK? ¿Podrías ponerme un par de ejemplo de cada una de ellas y describir que hacen, para que sirve?"
   ]
  },
  {
   "cell_type": "markdown",
   "metadata": {},
   "source": [
    "Las transformaciones en un RDD existente, devuelven otro RDD. Por ejemplo, si se aplicase un filtro. En este caso se podría filtrar por distintos campos como el equipo local, visitante, la temporada o los goles. El resultado de aplicar el filtro al RDD es otro RDD al que se podrá acceder. El acceso a ese RDD se debe realizar mediante una acción, como puede ser un _take_ para sacar x registros, o un _count_ para contar el total de registros.\n",
    "Con estas acciones ya se puede operar y acceder a ellas. Durante esta práctica se realizarán accesos (acciones) en las salidas de los resultados, a las que previamente se han realizado transformaciones. También cabe decir que las transformaciones son de carácter _lazy_."
   ]
  },
  {
   "cell_type": "markdown",
   "metadata": {},
   "source": [
    "## Segunda tarea: Inicializar spark context y cargar los datos desde el fichero."
   ]
  },
  {
   "cell_type": "code",
   "execution_count": 1,
   "metadata": {
    "collapsed": false
   },
   "outputs": [],
   "source": [
    "from pyspark import SparkContext\n",
    "sc = SparkContext()"
   ]
  },
  {
   "cell_type": "code",
   "execution_count": 2,
   "metadata": {
    "collapsed": true
   },
   "outputs": [],
   "source": [
    "archivo = \"Datos/DataSetPartidos.txt\"\n",
    "data = sc.textFile(archivo)"
   ]
  },
  {
   "cell_type": "markdown",
   "metadata": {},
   "source": [
    "Se realiza un _take_ para ver como es la estructura de los datos. Parece ser que el primer dato es un identificador, el segundo la temporada en la que el partido se juega, el tercero podría ser la jornada en la que se juega el partido, siendo el cuarto y el quinto datos los equipos que jugaron el partido de local y visitante respectivamente. El sexto y séptimo dato son los goles del partido, local y visitante, respectivamente. El octavo es la fecha del partido y el último podría ser la asistencia (no está claro).\n",
    "Con el _count_ hallamos los registros totales, 34.518 partidos en este caso"
   ]
  },
  {
   "cell_type": "code",
   "execution_count": 5,
   "metadata": {
    "collapsed": false
   },
   "outputs": [
    {
     "data": {
      "text/plain": [
       "34518"
      ]
     },
     "execution_count": 5,
     "metadata": {},
     "output_type": "execute_result"
    }
   ],
   "source": [
    "data.count()"
   ]
  },
  {
   "cell_type": "code",
   "execution_count": 4,
   "metadata": {
    "collapsed": false
   },
   "outputs": [
    {
     "data": {
      "text/plain": [
       "['1::1970-71::1::Athletic Club::Barcelona::1::1::12/09/1970::21942000.0']"
      ]
     },
     "execution_count": 4,
     "metadata": {},
     "output_type": "execute_result"
    }
   ],
   "source": [
    "data.take(1)"
   ]
  },
  {
   "cell_type": "markdown",
   "metadata": {},
   "source": [
    "Para parsear los datos, se observa que cada variable está dividida por **::**, por lo que se divide cada registro por esos caracteres."
   ]
  },
  {
   "cell_type": "code",
   "execution_count": 3,
   "metadata": {
    "collapsed": false
   },
   "outputs": [],
   "source": [
    "datos_parseados = data.map(lambda x: x.split(\"::\"))"
   ]
  },
  {
   "cell_type": "code",
   "execution_count": 4,
   "metadata": {
    "collapsed": false
   },
   "outputs": [
    {
     "data": {
      "text/plain": [
       "[['1',\n",
       "  '1970-71',\n",
       "  '1',\n",
       "  'Athletic Club',\n",
       "  'Barcelona',\n",
       "  '1',\n",
       "  '1',\n",
       "  '12/09/1970',\n",
       "  '21942000.0']]"
      ]
     },
     "execution_count": 4,
     "metadata": {},
     "output_type": "execute_result"
    }
   ],
   "source": [
    "datos_parseados.take(1)"
   ]
  },
  {
   "cell_type": "markdown",
   "metadata": {},
   "source": [
    "## Tercera pregunta: Calcular el número total de goles que ha marcado el Real Sporting de Gijón."
   ]
  },
  {
   "cell_type": "markdown",
   "metadata": {},
   "source": [
    "En primer lugar se deberán filtrar todos los partidos en los que el Sporting de Gijón juega en casa. Se coge el cuarto elemento de los datos parseados. Una vez filtrados los registros, se coge el sexto elemento (los goles del equipo local) y se suman todos. Así ya se habrían conseguido los goles que el Sporting ha marcado en El Molinón durante las temporadas contenidas en la base de datos. El proceso es el mismo para los goles que el Sporting ha marcado fuera de casa.\n",
    "\n",
    "Finalmente se \"imprimen\" los goles del Sporting en esta temporada, sumando ambos resultados."
   ]
  },
  {
   "cell_type": "code",
   "execution_count": 5,
   "metadata": {
    "collapsed": false
   },
   "outputs": [],
   "source": [
    "sporting_local = datos_parseados.filter(lambda x: x[3] == \"Sporting de Gijon\") # Se filtra por el equipo local (Sporting)\n",
    "goles_local = sporting_local.map(lambda x: int(x[5])).sum() # Goles marcados en El Molinón"
   ]
  },
  {
   "cell_type": "code",
   "execution_count": 6,
   "metadata": {
    "collapsed": false
   },
   "outputs": [],
   "source": [
    "sporting_visitante = datos_parseados.filter(lambda x: x[4] == \"Sporting de Gijon\") # Se filtra por el equipo visitante\n",
    "goles_visitante = sporting_visitante.map(lambda x: int(x[6])).sum() # Goles marcados por el Sporting fuera de casa"
   ]
  },
  {
   "cell_type": "code",
   "execution_count": 7,
   "metadata": {
    "collapsed": false
   },
   "outputs": [
    {
     "name": "stdout",
     "output_type": "stream",
     "text": [
      "El Real Sporting de Gijón ha marcado 2042 goles a lo largo de las 45 temporadas\n"
     ]
    }
   ],
   "source": [
    "print (\"El Real Sporting de Gijón ha marcado\",goles_local + goles_visitante, \"goles a lo largo de las 45 temporadas\")"
   ]
  },
  {
   "cell_type": "markdown",
   "metadata": {},
   "source": [
    "## Cuarta pregunta: ¿ En que temporada se marcaron más goles?"
   ]
  },
  {
   "cell_type": "markdown",
   "metadata": {},
   "source": [
    "En primer lugar, se calculan todos los goles que se han marcado en los 34.518 partidos. Para ello, se hallan los goles marcados en los partidos y se guardan en el formato _temporada;goles_. En el último paso, se reducen los registros sumando todos los goles de cada temporada. Para hallar la temporada en la que más goles se han conseguido, se realiza un _takeOrdered_ sacando un registro (el que más valor tenga). Así la salida, será la temporada en la que más goles se metieron.\n",
    "Finalmente, se imprime la información."
   ]
  },
  {
   "cell_type": "code",
   "execution_count": 8,
   "metadata": {
    "collapsed": false
   },
   "outputs": [],
   "source": [
    "temporada_goles = datos_parseados.map(lambda x: (x[1], int(x[5]) + int(x[6]))).reduceByKey(lambda a, b: a + b)"
   ]
  },
  {
   "cell_type": "code",
   "execution_count": 9,
   "metadata": {
    "collapsed": false
   },
   "outputs": [],
   "source": [
    "temporada_mas_goles = temporada_goles.takeOrdered(1, lambda x: -x[1])"
   ]
  },
  {
   "cell_type": "code",
   "execution_count": 10,
   "metadata": {
    "collapsed": false
   },
   "outputs": [
    {
     "name": "stdout",
     "output_type": "stream",
     "text": [
      "La temporada con más goles fue la 2012-13 y se marcaron 2294 goles\n"
     ]
    }
   ],
   "source": [
    "print(\"La temporada con más goles fue la\", temporada_mas_goles[0][0], \"y se marcaron\", temporada_mas_goles[0][1], \"goles\")"
   ]
  },
  {
   "cell_type": "markdown",
   "metadata": {},
   "source": [
    "## Quinta pregunta: ¿Cúal es el equipo y tiene el record de más goles como local? ¿ y cómo visitante?"
   ]
  },
  {
   "cell_type": "markdown",
   "metadata": {},
   "source": [
    "En primer lugar se sacarán todos los equipos locales de todos los partidos, y en un formato de clave (siendo esta el equipo) - valor (siendo este el número de goles). Posteriormente, se agruparán y se sumarán todos los valores. De esta manera, el que tenga un valor máximo será el equipo que más goles ha metido de local. Para el cálculo del visitante, se realizará el mismo proceso.\n",
    "\n",
    "En el caso del visitante tanto el Real Madrid como el Barcelona han anotado 1.296 goles a lo largo de estas temporadas"
   ]
  },
  {
   "cell_type": "code",
   "execution_count": 92,
   "metadata": {
    "collapsed": false
   },
   "outputs": [],
   "source": [
    "goles_totales_local = datos_parseados.map(lambda x: (x[3], int(x[5]))).reduceByKey(lambda a, b: a + b)\n",
    "mas_gol_local = goles_totales_local.takeOrdered(5, lambda x: -x[1])"
   ]
  },
  {
   "cell_type": "code",
   "execution_count": 93,
   "metadata": {
    "collapsed": false
   },
   "outputs": [
    {
     "name": "stdout",
     "output_type": "stream",
     "text": [
      "El equipo con más goles como local a lo largo de estas temporadas es el: Real Madrid con 2054 goles\n"
     ]
    }
   ],
   "source": [
    "print('El equipo con más goles como local a lo largo de estas temporadas es el:', mas_gol_local[0][0], 'con', mas_gol_local[0][1], 'goles')"
   ]
  },
  {
   "cell_type": "code",
   "execution_count": 94,
   "metadata": {
    "collapsed": false
   },
   "outputs": [
    {
     "data": {
      "text/plain": [
       "[('Real Madrid', 1296),\n",
       " ('Barcelona', 1296),\n",
       " ('Atletico de Madrid', 988),\n",
       " ('Valencia', 919),\n",
       " ('Betis', 853)]"
      ]
     },
     "execution_count": 94,
     "metadata": {},
     "output_type": "execute_result"
    }
   ],
   "source": [
    "goles_totales_visitante = datos_parseados.map(lambda x: (x[4], int(x[6]))).reduceByKey(lambda a, b: a + b)\n",
    "mas_gol_visitante = goles_totales_visitante.takeOrdered(5, lambda x: -x[1])\n",
    "mas_gol_visitante"
   ]
  },
  {
   "cell_type": "code",
   "execution_count": 95,
   "metadata": {
    "collapsed": false
   },
   "outputs": [
    {
     "name": "stdout",
     "output_type": "stream",
     "text": [
      "El equipo con más goles como visitante a lo largo de estas temporadas es el: Real Madrid con 1296 goles\n"
     ]
    }
   ],
   "source": [
    "print('El equipo con más goles como visitante a lo largo de estas temporadas es el:', mas_gol_visitante[0][0], 'con', mas_gol_visitante[0][1], 'goles')"
   ]
  },
  {
   "cell_type": "markdown",
   "metadata": {},
   "source": [
    "## Sexta pregunta: ¿Cúales son las 3 décadas en las que más goles se metieron?"
   ]
  },
  {
   "cell_type": "markdown",
   "metadata": {},
   "source": [
    "Aprovechando el cálculo de los goles por temporada del apartado 4, se accede a los 4 primeros números de la clave (el año) y al valor (los goles) y se crea un nuevo RDD de formato (año, goles). Luego se divide entre 10 y se vuelve a multiplicar (considerándolo como entero) teniendo así la década. Se reduce por clave y se ordenan las 5 décadas existentes en el dataset."
   ]
  },
  {
   "cell_type": "code",
   "execution_count": 96,
   "metadata": {
    "collapsed": true
   },
   "outputs": [],
   "source": [
    "goles_año = temporada_goles.map(lambda x: (x[0][0:4], x[1])) # Se consigue (año, goles) -> p.ej (1979, 3)\n",
    "goles_decada = goles_año.map(lambda x: (int(x[0])//10 * 10, x[1]))\n",
    "total_goles_decada = goles_decada.reduceByKey(lambda a, b: a + b)\n",
    "goles_decada = total_goles_decada.takeOrdered(5, lambda x: -x[1])"
   ]
  },
  {
   "cell_type": "code",
   "execution_count": 97,
   "metadata": {
    "collapsed": false
   },
   "outputs": [
    {
     "name": "stdout",
     "output_type": "stream",
     "text": [
      "La década con más goles fue la de 2000 con 20759 goles \n",
      "La segunda década con más goles fue la de 1990 con 19426 goles \n",
      "La tercera década con más goles fue la de 1980 con 17351 goles\n"
     ]
    }
   ],
   "source": [
    "print('La década con más goles fue la de', goles_decada[0][0], 'con', goles_decada[0][1], 'goles', '\\n'\n",
    "     'La segunda década con más goles fue la de', goles_decada[1][0], 'con', goles_decada[1][1], 'goles', '\\n'\n",
    "     'La tercera década con más goles fue la de', goles_decada[2][0], 'con', goles_decada[2][1], 'goles')"
   ]
  },
  {
   "cell_type": "markdown",
   "metadata": {},
   "source": [
    "##  Séptima pregunta: ¿Cúal es la media de victorias de los equipos que han estado menos de 10 temporadas en primera división?"
   ]
  },
  {
   "cell_type": "markdown",
   "metadata": {},
   "source": [
    "Se sacan todos los equipos y temporadas (***temp_equipo***) para luego sumar las presencias de cada equipo (***equipo_numero_temp***)"
   ]
  },
  {
   "cell_type": "code",
   "execution_count": null,
   "metadata": {
    "collapsed": true
   },
   "outputs": [],
   "source": [
    "temp_equipo = datos_parseados.map(lambda x: (x[1], x[3])).distinct()\n",
    "equipo_numero_temp = temp_equipo.map(lambda x: (x[1], 1)).reduceByKey(lambda a, b: a + b)"
   ]
  },
  {
   "cell_type": "markdown",
   "metadata": {},
   "source": [
    "Se filtran todos los equipos que han estado menos de 10 temporadas. En este paso se detecta que no todos los partidos son de Primera División. De esta manera el ejercicio se hará con los equipos que no han aparecido en Primera o Segunda División más de 10 veces. Existen 58 equipos. Nos quedamos sólo con el nombre de los equipos (***equipos_menos10***). Luego se crea una lista con esos equipos (***equipos_menos10_temp***)"
   ]
  },
  {
   "cell_type": "code",
   "execution_count": 36,
   "metadata": {
    "collapsed": false
   },
   "outputs": [],
   "source": [
    "equipos_menos10 = equipo_numero_temp.filter(lambda x: x[1] < 10).map(lambda x: x[0])\n",
    "equipos_menos10_temp = equipos_menos10.collect()"
   ]
  },
  {
   "cell_type": "markdown",
   "metadata": {},
   "source": [
    "Se recuperan los datos de los equipos locales y visitantes originales. Busca en los registros cada nombre que está en la lista creada anteriormente (***equipos_menos10_temp***)"
   ]
  },
  {
   "cell_type": "code",
   "execution_count": 38,
   "metadata": {
    "collapsed": false
   },
   "outputs": [],
   "source": [
    "equipos_menos10_local = (datos_parseados.filter(lambda x: x[3] in equipos_menos10_temp))\n",
    "equipos_menos10_visit = (datos_parseados.filter(lambda x: x[4] in equipos_menos10_temp))"
   ]
  },
  {
   "cell_type": "markdown",
   "metadata": {},
   "source": [
    "Se calculan las victorias de cada equipo tanto jugando de local, como jugando de visitante. Para después contar las victorias y sumar agrupar por clave, es decir, por equipo."
   ]
  },
  {
   "cell_type": "code",
   "execution_count": 39,
   "metadata": {
    "collapsed": false
   },
   "outputs": [],
   "source": [
    "victorias_equipos_menos10_local = (equipos_menos10_local.filter(lambda x: x[5] > x[6]))\n",
    "victorias_equipos_menos10_visit = (equipos_menos10_visit.filter(lambda x: x[5] < x[6]))"
   ]
  },
  {
   "cell_type": "code",
   "execution_count": 40,
   "metadata": {
    "collapsed": true
   },
   "outputs": [],
   "source": [
    "victorias_locales = victorias_equipos_menos10_local.map(lambda x: (x[3], 1)).reduceByKey(lambda a, b: a + b)\n",
    "victorias_visitantes = victorias_equipos_menos10_visit.map(lambda x: (x[4], 1)).reduceByKey(lambda a, b: a + b)"
   ]
  },
  {
   "cell_type": "markdown",
   "metadata": {},
   "source": [
    "Se suman las victorias locales y visitantes para luego agrupar por clave (equipo) y se suman los valores de estos. Así ya se podría hacer la media de las victorias de cada equipo."
   ]
  },
  {
   "cell_type": "code",
   "execution_count": 41,
   "metadata": {
    "collapsed": true
   },
   "outputs": [],
   "source": [
    "total_victorias = victorias_locales + victorias_visitantes\n",
    "victorias_equipo = total_victorias.groupByKey().mapValues(sum)\n",
    "media = victorias_equipo.map(lambda x: int(x[1])).mean()"
   ]
  },
  {
   "cell_type": "code",
   "execution_count": 111,
   "metadata": {
    "collapsed": false
   },
   "outputs": [
    {
     "name": "stdout",
     "output_type": "stream",
     "text": [
      "La media de victorias de los equipos que han estado menos de 10 temporadas en Primera y/o Segunda es de 46.02\n"
     ]
    }
   ],
   "source": [
    "print('La media de victorias de los equipos que han estado menos de 10 temporadas en Primera y/o Segunda es de', round(media, 2))"
   ]
  },
  {
   "cell_type": "markdown",
   "metadata": {},
   "source": [
    "##  Octava pregunta: ¿Cúal es la media de goles como visitante por partido?"
   ]
  },
  {
   "cell_type": "markdown",
   "metadata": {},
   "source": [
    "Se sacarán todos los goles que se han marcado como visitante en los partidos y luego se realizará la media de estos."
   ]
  },
  {
   "cell_type": "code",
   "execution_count": 23,
   "metadata": {
    "collapsed": false
   },
   "outputs": [
    {
     "name": "stdout",
     "output_type": "stream",
     "text": [
      "Un equipo visitante marca de media 0.928 goles por partido\n"
     ]
    }
   ],
   "source": [
    "total_gol_visitante = datos_parseados.map(lambda x: int(x[6])).sum()\n",
    "media_goles_visitante = (total_gol_visitante/data.count())\n",
    "print('Un equipo visitante marca de media', round(media_goles_visitante, 3), 'goles por partido')"
   ]
  }
 ],
 "metadata": {
  "kernelspec": {
   "display_name": "Python 3",
   "language": "python",
   "name": "python3"
  },
  "language_info": {
   "codemirror_mode": {
    "name": "ipython",
    "version": 3
   },
   "file_extension": ".py",
   "mimetype": "text/x-python",
   "name": "python",
   "nbconvert_exporter": "python",
   "pygments_lexer": "ipython3",
   "version": "3.5.2"
  }
 },
 "nbformat": 4,
 "nbformat_minor": 2
}
